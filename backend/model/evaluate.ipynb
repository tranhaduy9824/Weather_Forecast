{
 "cells": [
  {
   "cell_type": "markdown",
   "metadata": {},
   "source": [
    "Evaluate model epoch 4 no embedding"
   ]
  },
  {
   "cell_type": "code",
   "execution_count": null,
   "metadata": {},
   "outputs": [],
   "source": [
    "import tensorflow as tf\n",
    "from tensorflow.keras.models import load_model\n",
    "import numpy as np\n",
    "import pandas as pd\n",
    "import pickle\n",
    "\n",
    "scaler_file = \"/backend/dataset/processed/scaler.pkl\"\n",
    "test_file = \"/backend/dataset/processed/test_data.csv\"\n",
    "checkpoint_path = \"/backend/model/model_epoch_04.h5\"\n",
    "\n",
    "with open(scaler_file, 'rb') as f:\n",
    "    scaler_X, scaler_y = pickle.load(f)\n",
    "\n",
    "feature_cols = [\"Latitude\", \"Longitude\", \"hour\", \"day\", \"month\", \"season\", \n",
    "                \"WS10M\", \"QV2M\", \"PS\", \"PRECTOTCORR\", \"T2M\", \"CLRSKY_SFC_SW_DWN\"]\n",
    "\n",
    "target_cols = [\"CLRSKY_SFC_SW_DWN\", \"PS\", \"T2M\", \"QV2M\", \"WS10M\", \"PRECTOTCORR\"] \n",
    "\n",
    "timesteps = 24\n",
    "batch_size = 256\n",
    "\n",
    "model = load_model(checkpoint_path)\n",
    "model.summary()\n",
    "\n",
    "def data_generator(file_path, feature_cols, target_cols, batch_size=256, timesteps=24):\n",
    "    dtype_dict = {col: np.float32 for col in feature_cols + target_cols}\n",
    "    dtype_dict.update({\"hour\": np.int8, \"day\": np.int8, \"month\": np.int8, \"season\": np.int8})\n",
    "\n",
    "    for chunk in pd.read_csv(file_path, chunksize=batch_size * 5, dtype=dtype_dict, parse_dates=[\"Datetime\"], low_memory=True):\n",
    "        chunk = chunk.sort_values(by=[\"Datetime\"])\n",
    "        \n",
    "        X_scaled = scaler_X.transform(chunk[feature_cols])\n",
    "        y_scaled = scaler_y.transform(chunk[target_cols])\n",
    "\n",
    "        X_batch, y_batch = [], []\n",
    "        for i in range(len(chunk) - timesteps - 24):\n",
    "            X_batch.append(X_scaled[i:i+timesteps])\n",
    "            y_batch.append(y_scaled[i+timesteps:i+timesteps+24])\n",
    "\n",
    "        yield np.array(X_batch), np.array(y_batch)\n",
    "\n",
    "test_dataset = tf.data.Dataset.from_generator(\n",
    "    lambda: data_generator(test_file, feature_cols, target_cols, batch_size, timesteps),\n",
    "    output_signature=(\n",
    "        tf.TensorSpec(shape=(None, timesteps, len(feature_cols)), dtype=tf.float32),\n",
    "        tf.TensorSpec(shape=(None, 24, len(target_cols)), dtype=tf.float32),\n",
    "    )\n",
    ").prefetch(tf.data.AUTOTUNE)\n",
    "\n",
    "loss, mae = model.evaluate(test_dataset)\n",
    "print(f\"✅ Kết quả đánh giá trên dữ liệu test: Loss={loss:.4f}, MAE={mae:.4f}\")\n"
   ]
  }
 ],
 "metadata": {
  "kernelspec": {
   "display_name": "weather_lstm",
   "language": "python",
   "name": "python3"
  },
  "language_info": {
   "name": "python",
   "version": "3.10.16"
  }
 },
 "nbformat": 4,
 "nbformat_minor": 2
}
